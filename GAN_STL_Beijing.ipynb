{
  "nbformat": 4,
  "nbformat_minor": 0,
  "metadata": {
    "colab": {
      "name": "GAN_STL_Beijing.ipynb",
      "version": "0.3.2",
      "provenance": [],
      "collapsed_sections": [],
      "include_colab_link": true
    },
    "kernelspec": {
      "name": "python3",
      "display_name": "Python 3"
    },
    "accelerator": "GPU"
  },
  "cells": [
    {
      "cell_type": "markdown",
      "metadata": {
        "id": "view-in-github",
        "colab_type": "text"
      },
      "source": [
        "<a href=\"https://colab.research.google.com/github/LuisErnestoColchado/Learning-Deep-Pollution/blob/master/GAN_STL_Beijing.ipynb\" target=\"_parent\"><img src=\"https://colab.research.google.com/assets/colab-badge.svg\" alt=\"Open In Colab\"/></a>"
      ]
    },
    {
      "cell_type": "code",
      "metadata": {
        "id": "ic__Zj5GuE0x",
        "colab_type": "code",
        "colab": {}
      },
      "source": [
        "import sys"
      ],
      "execution_count": 0,
      "outputs": []
    },
    {
      "cell_type": "code",
      "metadata": {
        "id": "ZCQr23jO_ieb",
        "colab_type": "code",
        "colab": {
          "base_uri": "https://localhost:8080/",
          "height": 170
        },
        "outputId": "e1d2c438-945d-46e9-8e6d-7e02691d83b2"
      },
      "source": [
        "!pip3 install https://download.pytorch.org/whl/cu100/torch-1.0.1.post2-cp36-cp36m-linux_x86_64.whl"
      ],
      "execution_count": 1,
      "outputs": [
        {
          "output_type": "stream",
          "text": [
            "Collecting torch==1.0.1.post2 from https://download.pytorch.org/whl/cu100/torch-1.0.1.post2-cp36-cp36m-linux_x86_64.whl\n",
            "\u001b[?25l  Downloading https://download.pytorch.org/whl/cu100/torch-1.0.1.post2-cp36-cp36m-linux_x86_64.whl (636.8MB)\n",
            "\u001b[K     |████████████████████████████████| 636.8MB 27kB/s \n",
            "\u001b[31mERROR: torchvision 0.3.0 has requirement torch>=1.1.0, but you'll have torch 1.0.1.post2 which is incompatible.\u001b[0m\n",
            "\u001b[?25hInstalling collected packages: torch\n",
            "  Found existing installation: torch 1.1.0\n",
            "    Uninstalling torch-1.1.0:\n",
            "      Successfully uninstalled torch-1.1.0\n",
            "Successfully installed torch-1.0.1.post2\n"
          ],
          "name": "stdout"
        }
      ]
    },
    {
      "cell_type": "code",
      "metadata": {
        "id": "fCiojvuR_imy",
        "colab_type": "code",
        "colab": {
          "base_uri": "https://localhost:8080/",
          "height": 238
        },
        "outputId": "b79df1e0-b751-44c4-be40-c23b1cdec791"
      },
      "source": [
        "!pip3 install torchvision"
      ],
      "execution_count": 2,
      "outputs": [
        {
          "output_type": "stream",
          "text": [
            "Requirement already satisfied: torchvision in /usr/local/lib/python3.6/dist-packages (0.3.0)\n",
            "Collecting torch>=1.1.0 (from torchvision)\n",
            "\u001b[?25l  Downloading https://files.pythonhosted.org/packages/69/60/f685fb2cfb3088736bafbc9bdbb455327bdc8906b606da9c9a81bae1c81e/torch-1.1.0-cp36-cp36m-manylinux1_x86_64.whl (676.9MB)\n",
            "\u001b[K     |████████████████████████████████| 676.9MB 20kB/s \n",
            "\u001b[?25hRequirement already satisfied: six in /usr/local/lib/python3.6/dist-packages (from torchvision) (1.12.0)\n",
            "Requirement already satisfied: pillow>=4.1.1 in /usr/local/lib/python3.6/dist-packages (from torchvision) (4.3.0)\n",
            "Requirement already satisfied: numpy in /usr/local/lib/python3.6/dist-packages (from torchvision) (1.16.4)\n",
            "Requirement already satisfied: olefile in /usr/local/lib/python3.6/dist-packages (from pillow>=4.1.1->torchvision) (0.46)\n",
            "Installing collected packages: torch\n",
            "  Found existing installation: torch 1.0.1.post2\n",
            "    Uninstalling torch-1.0.1.post2:\n",
            "      Successfully uninstalled torch-1.0.1.post2\n",
            "Successfully installed torch-1.1.0\n"
          ],
          "name": "stdout"
        }
      ]
    },
    {
      "cell_type": "code",
      "metadata": {
        "id": "ZPbq7AYZ_ipE",
        "colab_type": "code",
        "colab": {
          "base_uri": "https://localhost:8080/",
          "height": 122
        },
        "outputId": "ec176995-c230-45a4-bcfc-356d5949c2a5"
      },
      "source": [
        "from google.colab import drive\n",
        "drive.mount('/content/drive', force_remount=True)"
      ],
      "execution_count": 3,
      "outputs": [
        {
          "output_type": "stream",
          "text": [
            "Go to this URL in a browser: https://accounts.google.com/o/oauth2/auth?client_id=947318989803-6bn6qk8qdgf4n4g3pfee6491hc0brc4i.apps.googleusercontent.com&redirect_uri=urn%3Aietf%3Awg%3Aoauth%3A2.0%3Aoob&scope=email%20https%3A%2F%2Fwww.googleapis.com%2Fauth%2Fdocs.test%20https%3A%2F%2Fwww.googleapis.com%2Fauth%2Fdrive%20https%3A%2F%2Fwww.googleapis.com%2Fauth%2Fdrive.photos.readonly%20https%3A%2F%2Fwww.googleapis.com%2Fauth%2Fpeopleapi.readonly&response_type=code\n",
            "\n",
            "Enter your authorization code:\n",
            "··········\n",
            "Mounted at /content/drive\n"
          ],
          "name": "stdout"
        }
      ]
    },
    {
      "cell_type": "code",
      "metadata": {
        "id": "en5x0yjb2kWq",
        "colab_type": "code",
        "colab": {
          "base_uri": "https://localhost:8080/",
          "height": 34
        },
        "outputId": "fbf38852-cab1-4c5f-cfbc-cf74d6828c3f"
      },
      "source": [
        "import pandas as pd\n",
        "import numpy as np \n",
        "import matplotlib.pyplot as plt\n",
        "import torch \n",
        "import torch.nn as nn \n",
        "import datetime\n",
        "print(\"Cuda is available in Pytorch: \",torch.cuda.is_available())"
      ],
      "execution_count": 4,
      "outputs": [
        {
          "output_type": "stream",
          "text": [
            "Cuda is available in Pytorch:  True\n"
          ],
          "name": "stdout"
        }
      ]
    },
    {
      "cell_type": "markdown",
      "metadata": {
        "id": "O8Exus2PWulc",
        "colab_type": "text"
      },
      "source": [
        "# Read Data\n"
      ]
    },
    {
      "cell_type": "code",
      "metadata": {
        "id": "vp-du16n_b4o",
        "colab_type": "code",
        "colab": {}
      },
      "source": [
        "aqi_beijing_data = pd.read_csv(\"/content/drive/My Drive/masterThesis/GAN_SpatioTemporal/data/beijing_17_18_aq.csv\")\n",
        "meo_beijing_data = pd.read_csv(\"/content/drive/My Drive/masterThesis/GAN_SpatioTemporal/data/beijing_17_18_meo.csv\")"
      ],
      "execution_count": 0,
      "outputs": []
    },
    {
      "cell_type": "markdown",
      "metadata": {
        "id": "PX_js8TRW1zq",
        "colab_type": "text"
      },
      "source": [
        "# Preprocessing Data\n"
      ]
    },
    {
      "cell_type": "markdown",
      "metadata": {
        "id": "5qDmHegAXLyS",
        "colab_type": "text"
      },
      "source": [
        "## Air Quality Data"
      ]
    },
    {
      "cell_type": "code",
      "metadata": {
        "id": "WhDguP5mFxmQ",
        "colab_type": "code",
        "colab": {
          "base_uri": "https://localhost:8080/",
          "height": 204
        },
        "outputId": "75f46809-1366-4c03-dc8e-4b7a60667a94"
      },
      "source": [
        "aqi_beijing_data.head()"
      ],
      "execution_count": 6,
      "outputs": [
        {
          "output_type": "execute_result",
          "data": {
            "text/html": [
              "<div>\n",
              "<style scoped>\n",
              "    .dataframe tbody tr th:only-of-type {\n",
              "        vertical-align: middle;\n",
              "    }\n",
              "\n",
              "    .dataframe tbody tr th {\n",
              "        vertical-align: top;\n",
              "    }\n",
              "\n",
              "    .dataframe thead th {\n",
              "        text-align: right;\n",
              "    }\n",
              "</style>\n",
              "<table border=\"1\" class=\"dataframe\">\n",
              "  <thead>\n",
              "    <tr style=\"text-align: right;\">\n",
              "      <th></th>\n",
              "      <th>stationId</th>\n",
              "      <th>utc_time</th>\n",
              "      <th>PM2.5</th>\n",
              "      <th>PM10</th>\n",
              "      <th>NO2</th>\n",
              "      <th>CO</th>\n",
              "      <th>O3</th>\n",
              "      <th>SO2</th>\n",
              "    </tr>\n",
              "  </thead>\n",
              "  <tbody>\n",
              "    <tr>\n",
              "      <th>0</th>\n",
              "      <td>aotizhongxin_aq</td>\n",
              "      <td>2017-01-01 14:00:00</td>\n",
              "      <td>453.0</td>\n",
              "      <td>467.0</td>\n",
              "      <td>156.0</td>\n",
              "      <td>7.2</td>\n",
              "      <td>3.0</td>\n",
              "      <td>9.0</td>\n",
              "    </tr>\n",
              "    <tr>\n",
              "      <th>1</th>\n",
              "      <td>aotizhongxin_aq</td>\n",
              "      <td>2017-01-01 15:00:00</td>\n",
              "      <td>417.0</td>\n",
              "      <td>443.0</td>\n",
              "      <td>143.0</td>\n",
              "      <td>6.8</td>\n",
              "      <td>2.0</td>\n",
              "      <td>8.0</td>\n",
              "    </tr>\n",
              "    <tr>\n",
              "      <th>2</th>\n",
              "      <td>aotizhongxin_aq</td>\n",
              "      <td>2017-01-01 16:00:00</td>\n",
              "      <td>395.0</td>\n",
              "      <td>467.0</td>\n",
              "      <td>141.0</td>\n",
              "      <td>6.9</td>\n",
              "      <td>3.0</td>\n",
              "      <td>8.0</td>\n",
              "    </tr>\n",
              "    <tr>\n",
              "      <th>3</th>\n",
              "      <td>aotizhongxin_aq</td>\n",
              "      <td>2017-01-01 17:00:00</td>\n",
              "      <td>420.0</td>\n",
              "      <td>484.0</td>\n",
              "      <td>139.0</td>\n",
              "      <td>7.4</td>\n",
              "      <td>3.0</td>\n",
              "      <td>9.0</td>\n",
              "    </tr>\n",
              "    <tr>\n",
              "      <th>4</th>\n",
              "      <td>aotizhongxin_aq</td>\n",
              "      <td>2017-01-01 18:00:00</td>\n",
              "      <td>453.0</td>\n",
              "      <td>520.0</td>\n",
              "      <td>157.0</td>\n",
              "      <td>7.6</td>\n",
              "      <td>4.0</td>\n",
              "      <td>9.0</td>\n",
              "    </tr>\n",
              "  </tbody>\n",
              "</table>\n",
              "</div>"
            ],
            "text/plain": [
              "         stationId             utc_time  PM2.5   PM10    NO2   CO   O3  SO2\n",
              "0  aotizhongxin_aq  2017-01-01 14:00:00  453.0  467.0  156.0  7.2  3.0  9.0\n",
              "1  aotizhongxin_aq  2017-01-01 15:00:00  417.0  443.0  143.0  6.8  2.0  8.0\n",
              "2  aotizhongxin_aq  2017-01-01 16:00:00  395.0  467.0  141.0  6.9  3.0  8.0\n",
              "3  aotizhongxin_aq  2017-01-01 17:00:00  420.0  484.0  139.0  7.4  3.0  9.0\n",
              "4  aotizhongxin_aq  2017-01-01 18:00:00  453.0  520.0  157.0  7.6  4.0  9.0"
            ]
          },
          "metadata": {
            "tags": []
          },
          "execution_count": 6
        }
      ]
    },
    {
      "cell_type": "code",
      "metadata": {
        "id": "9VMZOcjELrST",
        "colab_type": "code",
        "colab": {
          "base_uri": "https://localhost:8080/",
          "height": 297
        },
        "outputId": "ee55c029-d354-478b-8e62-1ce740caf7bd"
      },
      "source": [
        "aqi_beijing_data.describe()"
      ],
      "execution_count": 8,
      "outputs": [
        {
          "output_type": "execute_result",
          "data": {
            "text/html": [
              "<div>\n",
              "<style scoped>\n",
              "    .dataframe tbody tr th:only-of-type {\n",
              "        vertical-align: middle;\n",
              "    }\n",
              "\n",
              "    .dataframe tbody tr th {\n",
              "        vertical-align: top;\n",
              "    }\n",
              "\n",
              "    .dataframe thead th {\n",
              "        text-align: right;\n",
              "    }\n",
              "</style>\n",
              "<table border=\"1\" class=\"dataframe\">\n",
              "  <thead>\n",
              "    <tr style=\"text-align: right;\">\n",
              "      <th></th>\n",
              "      <th>PM2.5</th>\n",
              "      <th>PM10</th>\n",
              "      <th>NO2</th>\n",
              "      <th>CO</th>\n",
              "      <th>O3</th>\n",
              "      <th>SO2</th>\n",
              "    </tr>\n",
              "  </thead>\n",
              "  <tbody>\n",
              "    <tr>\n",
              "      <th>count</th>\n",
              "      <td>290621.000000</td>\n",
              "      <td>227747.000000</td>\n",
              "      <td>292359.000000</td>\n",
              "      <td>268197.000000</td>\n",
              "      <td>290589.000000</td>\n",
              "      <td>292462.000000</td>\n",
              "    </tr>\n",
              "    <tr>\n",
              "      <th>mean</th>\n",
              "      <td>58.785570</td>\n",
              "      <td>88.059259</td>\n",
              "      <td>45.792457</td>\n",
              "      <td>0.960677</td>\n",
              "      <td>55.692755</td>\n",
              "      <td>8.981003</td>\n",
              "    </tr>\n",
              "    <tr>\n",
              "      <th>std</th>\n",
              "      <td>66.113851</td>\n",
              "      <td>89.292875</td>\n",
              "      <td>32.065045</td>\n",
              "      <td>1.001856</td>\n",
              "      <td>53.821424</td>\n",
              "      <td>11.702594</td>\n",
              "    </tr>\n",
              "    <tr>\n",
              "      <th>min</th>\n",
              "      <td>2.000000</td>\n",
              "      <td>5.000000</td>\n",
              "      <td>1.000000</td>\n",
              "      <td>0.100000</td>\n",
              "      <td>1.000000</td>\n",
              "      <td>1.000000</td>\n",
              "    </tr>\n",
              "    <tr>\n",
              "      <th>25%</th>\n",
              "      <td>16.000000</td>\n",
              "      <td>37.000000</td>\n",
              "      <td>20.000000</td>\n",
              "      <td>0.400000</td>\n",
              "      <td>12.000000</td>\n",
              "      <td>2.000000</td>\n",
              "    </tr>\n",
              "    <tr>\n",
              "      <th>50%</th>\n",
              "      <td>39.000000</td>\n",
              "      <td>70.000000</td>\n",
              "      <td>39.000000</td>\n",
              "      <td>0.700000</td>\n",
              "      <td>45.000000</td>\n",
              "      <td>5.000000</td>\n",
              "    </tr>\n",
              "    <tr>\n",
              "      <th>75%</th>\n",
              "      <td>77.000000</td>\n",
              "      <td>113.000000</td>\n",
              "      <td>66.000000</td>\n",
              "      <td>1.200000</td>\n",
              "      <td>79.000000</td>\n",
              "      <td>11.000000</td>\n",
              "    </tr>\n",
              "    <tr>\n",
              "      <th>max</th>\n",
              "      <td>1004.000000</td>\n",
              "      <td>3000.000000</td>\n",
              "      <td>300.000000</td>\n",
              "      <td>15.000000</td>\n",
              "      <td>504.000000</td>\n",
              "      <td>307.000000</td>\n",
              "    </tr>\n",
              "  </tbody>\n",
              "</table>\n",
              "</div>"
            ],
            "text/plain": [
              "               PM2.5           PM10  ...             O3            SO2\n",
              "count  290621.000000  227747.000000  ...  290589.000000  292462.000000\n",
              "mean       58.785570      88.059259  ...      55.692755       8.981003\n",
              "std        66.113851      89.292875  ...      53.821424      11.702594\n",
              "min         2.000000       5.000000  ...       1.000000       1.000000\n",
              "25%        16.000000      37.000000  ...      12.000000       2.000000\n",
              "50%        39.000000      70.000000  ...      45.000000       5.000000\n",
              "75%        77.000000     113.000000  ...      79.000000      11.000000\n",
              "max      1004.000000    3000.000000  ...     504.000000     307.000000\n",
              "\n",
              "[8 rows x 6 columns]"
            ]
          },
          "metadata": {
            "tags": []
          },
          "execution_count": 8
        }
      ]
    },
    {
      "cell_type": "code",
      "metadata": {
        "id": "92ez6CNpXSXH",
        "colab_type": "code",
        "colab": {}
      },
      "source": [
        "aqi_beijing_data[\"utc_time\"] = aqi_beijing_data.index\n",
        "used_times = []\n",
        "for index in aqi_beijing_data.index:\n",
        "    time = aqi_beijing_data.loc[index][\"utc_time\"]\n",
        "    if time not in used_times :\n",
        "        used_times.append(time)\n",
        "    else : \n",
        "        aqi_beijing_data.drop([index], inplace=True)"
      ],
      "execution_count": 0,
      "outputs": []
    },
    {
      "cell_type": "code",
      "metadata": {
        "id": "qHQQqnmftP6l",
        "colab_type": "code",
        "colab": {
          "base_uri": "https://localhost:8080/",
          "height": 297
        },
        "outputId": "e7df1996-b318-4056-cd15-f7351e44f92e"
      },
      "source": [
        "aqi_beijing_data.describe()"
      ],
      "execution_count": 13,
      "outputs": [
        {
          "output_type": "execute_result",
          "data": {
            "text/html": [
              "<div>\n",
              "<style scoped>\n",
              "    .dataframe tbody tr th:only-of-type {\n",
              "        vertical-align: middle;\n",
              "    }\n",
              "\n",
              "    .dataframe tbody tr th {\n",
              "        vertical-align: top;\n",
              "    }\n",
              "\n",
              "    .dataframe thead th {\n",
              "        text-align: right;\n",
              "    }\n",
              "</style>\n",
              "<table border=\"1\" class=\"dataframe\">\n",
              "  <thead>\n",
              "    <tr style=\"text-align: right;\">\n",
              "      <th></th>\n",
              "      <th>utc_time</th>\n",
              "      <th>PM2.5</th>\n",
              "      <th>PM10</th>\n",
              "      <th>NO2</th>\n",
              "      <th>CO</th>\n",
              "      <th>O3</th>\n",
              "      <th>SO2</th>\n",
              "      <th>time</th>\n",
              "    </tr>\n",
              "  </thead>\n",
              "  <tbody>\n",
              "    <tr>\n",
              "      <th>count</th>\n",
              "      <td>311010.000000</td>\n",
              "      <td>290621.000000</td>\n",
              "      <td>227747.000000</td>\n",
              "      <td>292359.000000</td>\n",
              "      <td>268197.000000</td>\n",
              "      <td>290589.000000</td>\n",
              "      <td>292462.000000</td>\n",
              "      <td>311010.000000</td>\n",
              "    </tr>\n",
              "    <tr>\n",
              "      <th>mean</th>\n",
              "      <td>155504.500000</td>\n",
              "      <td>58.785570</td>\n",
              "      <td>88.059259</td>\n",
              "      <td>45.792457</td>\n",
              "      <td>0.960677</td>\n",
              "      <td>55.692755</td>\n",
              "      <td>8.981003</td>\n",
              "      <td>155504.500000</td>\n",
              "    </tr>\n",
              "    <tr>\n",
              "      <th>std</th>\n",
              "      <td>89780.997948</td>\n",
              "      <td>66.113851</td>\n",
              "      <td>89.292875</td>\n",
              "      <td>32.065045</td>\n",
              "      <td>1.001856</td>\n",
              "      <td>53.821424</td>\n",
              "      <td>11.702594</td>\n",
              "      <td>89780.997948</td>\n",
              "    </tr>\n",
              "    <tr>\n",
              "      <th>min</th>\n",
              "      <td>0.000000</td>\n",
              "      <td>2.000000</td>\n",
              "      <td>5.000000</td>\n",
              "      <td>1.000000</td>\n",
              "      <td>0.100000</td>\n",
              "      <td>1.000000</td>\n",
              "      <td>1.000000</td>\n",
              "      <td>0.000000</td>\n",
              "    </tr>\n",
              "    <tr>\n",
              "      <th>25%</th>\n",
              "      <td>77752.250000</td>\n",
              "      <td>16.000000</td>\n",
              "      <td>37.000000</td>\n",
              "      <td>20.000000</td>\n",
              "      <td>0.400000</td>\n",
              "      <td>12.000000</td>\n",
              "      <td>2.000000</td>\n",
              "      <td>77752.250000</td>\n",
              "    </tr>\n",
              "    <tr>\n",
              "      <th>50%</th>\n",
              "      <td>155504.500000</td>\n",
              "      <td>39.000000</td>\n",
              "      <td>70.000000</td>\n",
              "      <td>39.000000</td>\n",
              "      <td>0.700000</td>\n",
              "      <td>45.000000</td>\n",
              "      <td>5.000000</td>\n",
              "      <td>155504.500000</td>\n",
              "    </tr>\n",
              "    <tr>\n",
              "      <th>75%</th>\n",
              "      <td>233256.750000</td>\n",
              "      <td>77.000000</td>\n",
              "      <td>113.000000</td>\n",
              "      <td>66.000000</td>\n",
              "      <td>1.200000</td>\n",
              "      <td>79.000000</td>\n",
              "      <td>11.000000</td>\n",
              "      <td>233256.750000</td>\n",
              "    </tr>\n",
              "    <tr>\n",
              "      <th>max</th>\n",
              "      <td>311009.000000</td>\n",
              "      <td>1004.000000</td>\n",
              "      <td>3000.000000</td>\n",
              "      <td>300.000000</td>\n",
              "      <td>15.000000</td>\n",
              "      <td>504.000000</td>\n",
              "      <td>307.000000</td>\n",
              "      <td>311009.000000</td>\n",
              "    </tr>\n",
              "  </tbody>\n",
              "</table>\n",
              "</div>"
            ],
            "text/plain": [
              "            utc_time          PM2.5  ...            SO2           time\n",
              "count  311010.000000  290621.000000  ...  292462.000000  311010.000000\n",
              "mean   155504.500000      58.785570  ...       8.981003  155504.500000\n",
              "std     89780.997948      66.113851  ...      11.702594   89780.997948\n",
              "min         0.000000       2.000000  ...       1.000000       0.000000\n",
              "25%     77752.250000      16.000000  ...       2.000000   77752.250000\n",
              "50%    155504.500000      39.000000  ...       5.000000  155504.500000\n",
              "75%    233256.750000      77.000000  ...      11.000000  233256.750000\n",
              "max    311009.000000    1004.000000  ...     307.000000  311009.000000\n",
              "\n",
              "[8 rows x 8 columns]"
            ]
          },
          "metadata": {
            "tags": []
          },
          "execution_count": 13
        }
      ]
    },
    {
      "cell_type": "markdown",
      "metadata": {
        "id": "mxhmk-MlogBm",
        "colab_type": "text"
      },
      "source": [
        "## Meteorological Data"
      ]
    },
    {
      "cell_type": "code",
      "metadata": {
        "id": "yK67IhDFJ6_M",
        "colab_type": "code",
        "colab": {
          "base_uri": "https://localhost:8080/",
          "height": 204
        },
        "outputId": "df2d0870-91f2-41ef-9548-d36ad6371fff"
      },
      "source": [
        "meo_beijing_data.head()"
      ],
      "execution_count": 7,
      "outputs": [
        {
          "output_type": "execute_result",
          "data": {
            "text/html": [
              "<div>\n",
              "<style scoped>\n",
              "    .dataframe tbody tr th:only-of-type {\n",
              "        vertical-align: middle;\n",
              "    }\n",
              "\n",
              "    .dataframe tbody tr th {\n",
              "        vertical-align: top;\n",
              "    }\n",
              "\n",
              "    .dataframe thead th {\n",
              "        text-align: right;\n",
              "    }\n",
              "</style>\n",
              "<table border=\"1\" class=\"dataframe\">\n",
              "  <thead>\n",
              "    <tr style=\"text-align: right;\">\n",
              "      <th></th>\n",
              "      <th>station_id</th>\n",
              "      <th>longitude</th>\n",
              "      <th>latitude</th>\n",
              "      <th>utc_time</th>\n",
              "      <th>temperature</th>\n",
              "      <th>pressure</th>\n",
              "      <th>humidity</th>\n",
              "      <th>wind_direction</th>\n",
              "      <th>wind_speed</th>\n",
              "      <th>weather</th>\n",
              "    </tr>\n",
              "  </thead>\n",
              "  <tbody>\n",
              "    <tr>\n",
              "      <th>0</th>\n",
              "      <td>shunyi_meo</td>\n",
              "      <td>116.615278</td>\n",
              "      <td>40.126667</td>\n",
              "      <td>2017-01-30 16:00:00</td>\n",
              "      <td>-1.7</td>\n",
              "      <td>1028.7</td>\n",
              "      <td>15</td>\n",
              "      <td>215.0</td>\n",
              "      <td>1.6</td>\n",
              "      <td>Sunny/clear</td>\n",
              "    </tr>\n",
              "    <tr>\n",
              "      <th>1</th>\n",
              "      <td>shunyi_meo</td>\n",
              "      <td>116.615278</td>\n",
              "      <td>40.126667</td>\n",
              "      <td>2017-01-30 17:00:00</td>\n",
              "      <td>-3.5</td>\n",
              "      <td>1028.4</td>\n",
              "      <td>24</td>\n",
              "      <td>16.0</td>\n",
              "      <td>1.0</td>\n",
              "      <td>Haze</td>\n",
              "    </tr>\n",
              "    <tr>\n",
              "      <th>2</th>\n",
              "      <td>shunyi_meo</td>\n",
              "      <td>116.615278</td>\n",
              "      <td>40.126667</td>\n",
              "      <td>2017-01-30 18:00:00</td>\n",
              "      <td>-3.7</td>\n",
              "      <td>1028.1</td>\n",
              "      <td>27</td>\n",
              "      <td>32.0</td>\n",
              "      <td>1.1</td>\n",
              "      <td>Haze</td>\n",
              "    </tr>\n",
              "    <tr>\n",
              "      <th>3</th>\n",
              "      <td>shunyi_meo</td>\n",
              "      <td>116.615278</td>\n",
              "      <td>40.126667</td>\n",
              "      <td>2017-01-30 19:00:00</td>\n",
              "      <td>-3.9</td>\n",
              "      <td>1027.6</td>\n",
              "      <td>27</td>\n",
              "      <td>21.0</td>\n",
              "      <td>0.9</td>\n",
              "      <td>Haze</td>\n",
              "    </tr>\n",
              "    <tr>\n",
              "      <th>4</th>\n",
              "      <td>shunyi_meo</td>\n",
              "      <td>116.615278</td>\n",
              "      <td>40.126667</td>\n",
              "      <td>2017-01-30 20:00:00</td>\n",
              "      <td>-4.1</td>\n",
              "      <td>1026.7</td>\n",
              "      <td>26</td>\n",
              "      <td>17.0</td>\n",
              "      <td>1.1</td>\n",
              "      <td>Haze</td>\n",
              "    </tr>\n",
              "  </tbody>\n",
              "</table>\n",
              "</div>"
            ],
            "text/plain": [
              "   station_id   longitude   latitude  ... wind_direction  wind_speed      weather\n",
              "0  shunyi_meo  116.615278  40.126667  ...          215.0         1.6  Sunny/clear\n",
              "1  shunyi_meo  116.615278  40.126667  ...           16.0         1.0         Haze\n",
              "2  shunyi_meo  116.615278  40.126667  ...           32.0         1.1         Haze\n",
              "3  shunyi_meo  116.615278  40.126667  ...           21.0         0.9         Haze\n",
              "4  shunyi_meo  116.615278  40.126667  ...           17.0         1.1         Haze\n",
              "\n",
              "[5 rows x 10 columns]"
            ]
          },
          "metadata": {
            "tags": []
          },
          "execution_count": 7
        }
      ]
    },
    {
      "cell_type": "code",
      "metadata": {
        "id": "1lbkuYS2otvW",
        "colab_type": "code",
        "colab": {
          "base_uri": "https://localhost:8080/",
          "height": 297
        },
        "outputId": "539cd5e6-da80-4767-c72c-9a0962a023ca"
      },
      "source": [
        "meo_beijing_data.describe()"
      ],
      "execution_count": 14,
      "outputs": [
        {
          "output_type": "execute_result",
          "data": {
            "text/html": [
              "<div>\n",
              "<style scoped>\n",
              "    .dataframe tbody tr th:only-of-type {\n",
              "        vertical-align: middle;\n",
              "    }\n",
              "\n",
              "    .dataframe tbody tr th {\n",
              "        vertical-align: top;\n",
              "    }\n",
              "\n",
              "    .dataframe thead th {\n",
              "        text-align: right;\n",
              "    }\n",
              "</style>\n",
              "<table border=\"1\" class=\"dataframe\">\n",
              "  <thead>\n",
              "    <tr style=\"text-align: right;\">\n",
              "      <th></th>\n",
              "      <th>longitude</th>\n",
              "      <th>latitude</th>\n",
              "      <th>temperature</th>\n",
              "      <th>pressure</th>\n",
              "      <th>humidity</th>\n",
              "      <th>wind_direction</th>\n",
              "      <th>wind_speed</th>\n",
              "    </tr>\n",
              "  </thead>\n",
              "  <tbody>\n",
              "    <tr>\n",
              "      <th>count</th>\n",
              "      <td>158047.000000</td>\n",
              "      <td>158047.000000</td>\n",
              "      <td>158047.000000</td>\n",
              "      <td>158047.000000</td>\n",
              "      <td>158047.000000</td>\n",
              "      <td>157813.000000</td>\n",
              "      <td>157813.000000</td>\n",
              "    </tr>\n",
              "    <tr>\n",
              "      <th>mean</th>\n",
              "      <td>116.395672</td>\n",
              "      <td>40.047275</td>\n",
              "      <td>38.182775</td>\n",
              "      <td>1026.798200</td>\n",
              "      <td>354.312894</td>\n",
              "      <td>35487.471178</td>\n",
              "      <td>96.933881</td>\n",
              "    </tr>\n",
              "    <tr>\n",
              "      <th>std</th>\n",
              "      <td>0.395223</td>\n",
              "      <td>0.264798</td>\n",
              "      <td>5030.694816</td>\n",
              "      <td>5025.748455</td>\n",
              "      <td>17423.723518</td>\n",
              "      <td>184454.823456</td>\n",
              "      <td>9748.857634</td>\n",
              "    </tr>\n",
              "    <tr>\n",
              "      <th>min</th>\n",
              "      <td>115.692222</td>\n",
              "      <td>39.718611</td>\n",
              "      <td>-21.300000</td>\n",
              "      <td>940.000000</td>\n",
              "      <td>4.000000</td>\n",
              "      <td>0.000000</td>\n",
              "      <td>0.000000</td>\n",
              "    </tr>\n",
              "    <tr>\n",
              "      <th>25%</th>\n",
              "      <td>116.194167</td>\n",
              "      <td>39.847500</td>\n",
              "      <td>2.500000</td>\n",
              "      <td>994.200000</td>\n",
              "      <td>27.000000</td>\n",
              "      <td>78.000000</td>\n",
              "      <td>0.900000</td>\n",
              "    </tr>\n",
              "    <tr>\n",
              "      <th>50%</th>\n",
              "      <td>116.290556</td>\n",
              "      <td>39.973889</td>\n",
              "      <td>13.800000</td>\n",
              "      <td>1005.600000</td>\n",
              "      <td>48.000000</td>\n",
              "      <td>190.000000</td>\n",
              "      <td>1.500000</td>\n",
              "    </tr>\n",
              "    <tr>\n",
              "      <th>75%</th>\n",
              "      <td>116.626944</td>\n",
              "      <td>40.223333</td>\n",
              "      <td>23.200000</td>\n",
              "      <td>1016.900000</td>\n",
              "      <td>73.000000</td>\n",
              "      <td>280.000000</td>\n",
              "      <td>2.500000</td>\n",
              "    </tr>\n",
              "    <tr>\n",
              "      <th>max</th>\n",
              "      <td>117.117778</td>\n",
              "      <td>40.658889</td>\n",
              "      <td>999999.000000</td>\n",
              "      <td>999999.000000</td>\n",
              "      <td>999999.000000</td>\n",
              "      <td>999999.000000</td>\n",
              "      <td>999999.000000</td>\n",
              "    </tr>\n",
              "  </tbody>\n",
              "</table>\n",
              "</div>"
            ],
            "text/plain": [
              "           longitude       latitude  ...  wind_direction     wind_speed\n",
              "count  158047.000000  158047.000000  ...   157813.000000  157813.000000\n",
              "mean      116.395672      40.047275  ...    35487.471178      96.933881\n",
              "std         0.395223       0.264798  ...   184454.823456    9748.857634\n",
              "min       115.692222      39.718611  ...        0.000000       0.000000\n",
              "25%       116.194167      39.847500  ...       78.000000       0.900000\n",
              "50%       116.290556      39.973889  ...      190.000000       1.500000\n",
              "75%       116.626944      40.223333  ...      280.000000       2.500000\n",
              "max       117.117778      40.658889  ...   999999.000000  999999.000000\n",
              "\n",
              "[8 rows x 7 columns]"
            ]
          },
          "metadata": {
            "tags": []
          },
          "execution_count": 14
        }
      ]
    },
    {
      "cell_type": "code",
      "metadata": {
        "id": "baE64aKtoBbB",
        "colab_type": "code",
        "colab": {}
      },
      "source": [
        "meo_beijing_data[\"utc_time\"] = meo_beijing_data.index\n",
        "used_times = []\n",
        "for index in meo_beijing_data.index:\n",
        "    time = meo_beijing_data.loc[index][\"utc_time\"]\n",
        "    if time not in used_times :\n",
        "        used_times.append(time)\n",
        "    else : \n",
        "        meo_beijing_data.drop([index], inplace=True)"
      ],
      "execution_count": 0,
      "outputs": []
    },
    {
      "cell_type": "markdown",
      "metadata": {
        "id": "kVRnoZ5RpkIa",
        "colab_type": "text"
      },
      "source": [
        "# GAN "
      ]
    },
    {
      "cell_type": "markdown",
      "metadata": {
        "id": "nPk6qUNBpz4Y",
        "colab_type": "text"
      },
      "source": [
        "##Spatio-Temporal Learning"
      ]
    },
    {
      "cell_type": "code",
      "metadata": {
        "id": "bXY6DW78rc6r",
        "colab_type": "code",
        "colab": {}
      },
      "source": [
        "def EuclidianDistance(X,X_t):\n",
        "  sum = 0\n",
        "  for x in X:\n",
        "    for x_t in X_t:\n",
        "      sum += np.pow(x - x_t,2)\n",
        "  return np.sqrt(sum)"
      ],
      "execution_count": 0,
      "outputs": []
    },
    {
      "cell_type": "code",
      "metadata": {
        "id": "Wu9ba23N2yCn",
        "colab_type": "code",
        "colab": {}
      },
      "source": [
        "def LostFunction(state_neigh, state_x):\n",
        "  return (1/2) * np.pow(state_x-state_neigh,2) "
      ],
      "execution_count": 0,
      "outputs": []
    },
    {
      "cell_type": "code",
      "metadata": {
        "id": "884kiN20pyxk",
        "colab_type": "code",
        "colab": {}
      },
      "source": [
        "def functionCost(m,u,N_spa,N_tem,X,alpha,):\n",
        "  C_spa = 0\n",
        "  C_tem = 0\n",
        "  L_spa = 0\n",
        "  L_tem = 0\n",
        "  Sum_spa = 0\n",
        "  Sum_tem = 0\n",
        "  for x in X:\n",
        "    for n_spa in N_spa:\n",
        "      C_spa = np.pow(sys.float_info.epsilon,-EuclidianDistance(x,n_spa))\n",
        "      L_spa = LostFunction(n_spa,x)\n",
        "      Sum_spa += C_spa * L_spa\n",
        "    for n_tem in N_tem:\n",
        "      C_tem = np.pow(sys.float_info.epsilon,-EuclidianDistance(x,n_tem))\n",
        "      L_tem = LostFunction(n_tem,x)\n",
        "      Sum_tem += C_tem * L_tem\n",
        "  return ((1 / (m+u)) * Sum_spa) +  ((alpha/(m+u)) * Sum_tem) "
      ],
      "execution_count": 0,
      "outputs": []
    },
    {
      "cell_type": "markdown",
      "metadata": {
        "id": "xOb3JV9zvE8E",
        "colab_type": "text"
      },
      "source": [
        "## Generator\n"
      ]
    },
    {
      "cell_type": "code",
      "metadata": {
        "id": "x89Z45nBvCFq",
        "colab_type": "code",
        "colab": {}
      },
      "source": [
        "class Generator(nn.Module):\n",
        "  def __init__(self, input_size, output_size):\n",
        "    \n",
        "  \n",
        "  def Forward(self, x):\n",
        "    x = self.map1(x)\n",
        "    x = \n",
        "  "
      ],
      "execution_count": 0,
      "outputs": []
    },
    {
      "cell_type": "code",
      "metadata": {
        "id": "gPxKn8gOKBF4",
        "colab_type": "code",
        "colab": {}
      },
      "source": [
        ""
      ],
      "execution_count": 0,
      "outputs": []
    }
  ]
}